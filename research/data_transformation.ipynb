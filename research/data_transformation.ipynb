{
 "cells": [
  {
   "cell_type": "code",
   "execution_count": 1,
   "metadata": {},
   "outputs": [],
   "source": [
    "import os"
   ]
  },
  {
   "cell_type": "code",
   "execution_count": 2,
   "metadata": {},
   "outputs": [
    {
     "data": {
      "text/plain": [
       "'d:\\\\Metro\\\\research'"
      ]
     },
     "execution_count": 2,
     "metadata": {},
     "output_type": "execute_result"
    }
   ],
   "source": [
    "%pwd"
   ]
  },
  {
   "cell_type": "code",
   "execution_count": 3,
   "metadata": {},
   "outputs": [],
   "source": [
    "os.chdir(\"../\")"
   ]
  },
  {
   "cell_type": "code",
   "execution_count": 4,
   "metadata": {},
   "outputs": [
    {
     "data": {
      "text/plain": [
       "'d:\\\\Metro'"
      ]
     },
     "execution_count": 4,
     "metadata": {},
     "output_type": "execute_result"
    }
   ],
   "source": [
    "%pwd"
   ]
  },
  {
   "cell_type": "code",
   "execution_count": 12,
   "metadata": {},
   "outputs": [],
   "source": [
    "from dataclasses import dataclass\n",
    "from pathlib import Path\n",
    "\n",
    "\n",
    "@dataclass(frozen=True)\n",
    "class DataTransformationConfig:\n",
    "    root_dir : Path\n",
    "    data_path: Path"
   ]
  },
  {
   "cell_type": "code",
   "execution_count": 13,
   "metadata": {},
   "outputs": [],
   "source": [
    "from Trafficvol.constants import *\n",
    "from Trafficvol.utils.common import read_yaml,create_directories"
   ]
  },
  {
   "cell_type": "code",
   "execution_count": 14,
   "metadata": {},
   "outputs": [],
   "source": [
    "class ConfigurationManager:\n",
    "    def __init__(\n",
    "        self,\n",
    "        config_filepath = CONFIG_FILE_PATH,\n",
    "        params_filepath = PARAMS_FILE_PATH,\n",
    "        schema_filepath = SCHEMA_FILE_PATH):\n",
    "\n",
    "        self.config = read_yaml(config_filepath)\n",
    "        self.params = read_yaml(params_filepath)\n",
    "        self.schema = read_yaml(schema_filepath)\n",
    "\n",
    "        create_directories([self.config.artifacts_root])\n",
    "        \n",
    "    def get_data_transformation_config(self) -> DataTransformationConfig:\n",
    "        config = self.config.data_transformation\n",
    "\n",
    "        create_directories([config.root_dir])\n",
    "\n",
    "        data_transformation_config = DataTransformationConfig(\n",
    "            root_dir=config.root_dir,\n",
    "            data_path=config.data_path,\n",
    "        )\n",
    "\n",
    "        return data_transformation_config"
   ]
  },
  {
   "cell_type": "code",
   "execution_count": 15,
   "metadata": {},
   "outputs": [],
   "source": [
    "import os\n",
    "from Trafficvol import logger\n",
    "from sklearn.model_selection import train_test_split\n",
    "import pandas as pd"
   ]
  },
  {
   "cell_type": "code",
   "execution_count": 16,
   "metadata": {},
   "outputs": [],
   "source": [
    "class DataTransformation:\n",
    "    def __init__(self, config: DataTransformationConfig):\n",
    "        self.config = config\n",
    "        self.x = None\n",
    "        self.y = None\n",
    "\n",
    "\n",
    "    \n",
    "    def data_preprocessing(self):\n",
    "        \n",
    "        data = pd.read_csv(self.config.data_path)\n",
    "        \n",
    "        \n",
    "        data.drop(columns = [\"holiday\",'weather_description'],axis = 1, inplace = True) \n",
    "        \n",
    "        data = data[data[\"weather_main\"].isin([\"Clouds\", \"Clear\", \"Mist\", \"Rain\", \"Snow\", \"Drizzle\", \"Haze\", \"Thunderstorm\", \"Fog\"])]\n",
    "        \n",
    "        \n",
    "        data['date_time'] = pd.to_datetime(data['date_time'], format='%Y-%m-%d %H:%M:%S')\n",
    "\n",
    "        # Extract Date Features\n",
    "        data['year'] = data['date_time'].dt.year\n",
    "        data['month'] = data['date_time'].dt.month\n",
    "        data['day'] = data['date_time'].dt.day\n",
    "        data['day_of_week'] = data['date_time'].dt.dayofweek\n",
    "        data['day_of_year'] = data['date_time'].dt.dayofyear\n",
    "\n",
    "        # Extract Time Features\n",
    "        data['hour'] = data['date_time'].dt.hour\n",
    "        data['minute'] = data['date_time'].dt.minute\n",
    "\n",
    "\n",
    "        # Create a new DataFrame for the modified 'date_time' column\n",
    "        new_data = data.copy()\n",
    "\n",
    "        # Drop the 'date_time' column from the original DataFrame\n",
    "        data.drop(columns=['date_time'], inplace=True)\n",
    "        \n",
    "        \n",
    "        data = pd.get_dummies(data, columns=['weather_main'], prefix='', prefix_sep='')\n",
    "        \n",
    "        \n",
    "        self.x = data.drop(\"traffic_volume\",axis = 1)\n",
    "        self.y = data[\"traffic_volume\"]\n",
    "\n",
    "\n",
    "    def train_test_spliting(self):\n",
    "        # Assuming data_preprocessing has already been called\n",
    "        if self.x is None or self.y is None:\n",
    "            raise ValueError(\"Data must be preprocessed before splitting.\")\n",
    "\n",
    "        # Split the data into training and test sets. (0.75, 0.25) split.\n",
    "        X_train, X_test, y_train, y_test = train_test_split(self.x, self.y, test_size=0.25, random_state=42)\n",
    "\n",
    "        train = pd.concat([X_train, y_train], axis=1)\n",
    "        test = pd.concat([X_test, y_test], axis=1)\n",
    "\n",
    "        train.to_csv(os.path.join(self.config.root_dir, \"train.csv\"), index=False)\n",
    "        test.to_csv(os.path.join(self.config.root_dir, \"test.csv\"), index=False)\n",
    "\n",
    "        logger.info(\"Split data into training and test sets\")\n",
    "        logger.info(train.shape)\n",
    "        logger.info(test.shape)\n",
    "\n",
    "        print(train.shape)\n",
    "        print(test.shape)"
   ]
  },
  {
   "cell_type": "code",
   "execution_count": 17,
   "metadata": {},
   "outputs": [
    {
     "name": "stderr",
     "output_type": "stream",
     "text": [
      "[03/13/2024 19:03:36] 31 Trafficvol - INFO - yaml file: config\\config.yaml loaded successfully\n",
      "[03/13/2024 19:03:36] 31 Trafficvol - INFO - yaml file: params.yaml loaded successfully\n",
      "[03/13/2024 19:03:36] 31 Trafficvol - INFO - yaml file: schema.yaml loaded successfully\n",
      "[03/13/2024 19:03:36] 52 Trafficvol - INFO - created directory at: artifacts\n",
      "[03/13/2024 19:03:36] 52 Trafficvol - INFO - created directory at: artifacts/data_transformation\n",
      "[03/13/2024 19:03:36] 61 Trafficvol - INFO - Split data into training and test sets\n",
      "[03/13/2024 19:03:36] 62 Trafficvol - INFO - (36135, 21)\n",
      "[03/13/2024 19:03:36] 63 Trafficvol - INFO - (12045, 21)\n"
     ]
    },
    {
     "name": "stdout",
     "output_type": "stream",
     "text": [
      "(36135, 21)\n",
      "(12045, 21)\n"
     ]
    }
   ],
   "source": [
    "try:\n",
    "    config = ConfigurationManager()\n",
    "    data_transformation_config = config.get_data_transformation_config()\n",
    "    data_transformation = DataTransformation(config=data_transformation_config)\n",
    "    data_transformation.data_preprocessing()\n",
    "    data_transformation.train_test_spliting()\n",
    "\n",
    "except FileNotFoundError as file_not_found_error:\n",
    "    logger.error(f\"File not found: {file_not_found_error}\")\n",
    "except Exception as e:\n",
    "    logger.error(f\"An unexpected error occurred: {e}\")\n",
    "    raise e\n"
   ]
  },
  {
   "cell_type": "code",
   "execution_count": null,
   "metadata": {},
   "outputs": [],
   "source": []
  }
 ],
 "metadata": {
  "kernelspec": {
   "display_name": "metro",
   "language": "python",
   "name": "python3"
  },
  "language_info": {
   "codemirror_mode": {
    "name": "ipython",
    "version": 3
   },
   "file_extension": ".py",
   "mimetype": "text/x-python",
   "name": "python",
   "nbconvert_exporter": "python",
   "pygments_lexer": "ipython3",
   "version": "3.8.18"
  }
 },
 "nbformat": 4,
 "nbformat_minor": 2
}
